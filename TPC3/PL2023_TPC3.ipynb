{
  "nbformat": 4,
  "nbformat_minor": 0,
  "metadata": {
    "colab": {
      "provenance": [],
      "include_colab_link": true
    },
    "kernelspec": {
      "name": "python3",
      "display_name": "Python 3"
    },
    "language_info": {
      "name": "python"
    }
  },
  "cells": [
    {
      "cell_type": "markdown",
      "metadata": {
        "id": "view-in-github",
        "colab_type": "text"
      },
      "source": [
        "<a href=\"https://colab.research.google.com/github/AN-DRE4/Advent-of-Code/blob/main/TPC3/PL2023_TPC3.ipynb\" target=\"_parent\"><img src=\"https://colab.research.google.com/assets/colab-badge.svg\" alt=\"Open In Colab\"/></a>"
      ]
    },
    {
      "cell_type": "markdown",
      "source": [
        "#Trabalho para Casa (TPC) 3\n",
        "da UC de **Processamento de Linguagens**,\n",
        "ano Letivo 2022/23 , 3º ano de LEI\n",
        "\n",
        "Relativos à 1º parte do programa: Filtros de Texto baseados em ER\n",
        "**texto em negrito**"
      ],
      "metadata": {
        "id": "E3nUK-2PqERR"
      }
    },
    {
      "cell_type": "markdown",
      "source": [
        "#TPC3: Processador de Pessoas listadas nos Róis de Confessados\n",
        "\n",
        "(publicado em **2023.02.28**)\n",
        "\n",
        "Construa agora um ou vários programas Python\n",
        "para  processar o texto 'processos.txt' (procurar o ficheiro no Bb) com o intuito de\n",
        "calcular frequências de alguns elementos (a ideia é utilizar arrays associativos, dicionários em Python,\n",
        "para o efeito) conforme solicitado a seguir:\n",
        "\n",
        "> a) Calcula a frequência de processos por ano (primeiro elemento da data);\n",
        "\n",
        "> b) Calcula a frequência de nomes próprios (o primeiro em cada nome) e apelidos (o ultimo em cada nome) por séculos e apresenta os 5 mais usados;\n",
        "\n",
        "> c) Calcula a frequência dos vários tipos de relação: irmão, sobrinho, etc.;\n",
        "\n",
        "> d) Converta os 20 primeiros registos num novo ficheiro de output mas em formato **Json**.\n",
        "\n",
        "\n"
      ],
      "metadata": {
        "id": "SN6uHpnNH5w4"
      }
    },
    {
      "cell_type": "markdown",
      "source": [
        "Exercício a) - Calcula a frequência de processos por ano (primeiro elemento da data)"
      ],
      "metadata": {
        "id": "nwUGEi7eL6Ce"
      }
    },
    {
      "cell_type": "code",
      "source": [
        "import re\n",
        "\n",
        "def count_processes_by_year(filename):\n",
        "    # Create an empty dictionary to store the counts for each year\n",
        "    year_counts = {}\n",
        "\n",
        "    # Open the file for reading\n",
        "    with open(filename, 'r') as f:\n",
        "        # Define a regex pattern to match the date string\n",
        "        date_pattern = r'\\d{4}-\\d{2}-\\d{2}'\n",
        "\n",
        "        # Loop over each line in the file\n",
        "        for line in f:\n",
        "            # Extract the date string using regex\n",
        "            match = re.search(date_pattern, line)\n",
        "            if not match:\n",
        "                continue\n",
        "            date_str = match.group(0)\n",
        "\n",
        "            # Extract the year from the date\n",
        "            year = date_str[:4]\n",
        "\n",
        "            # Increment the count for this year in the dictionary\n",
        "            year_counts[year] = year_counts.get(year, 0) + 1\n",
        "\n",
        "    # Return the dictionary of year counts\n",
        "    return dict(sorted(year_counts.items()))"
      ],
      "metadata": {
        "id": "xwngvpjDQTI3"
      },
      "execution_count": null,
      "outputs": []
    },
    {
      "cell_type": "markdown",
      "source": [
        "Exercício b) - Calcula a frequência de nomes próprios (o primeiro em cada nome) e apelidos (o ultimo em cada nome) por séculos e apresenta os 5 mais usados"
      ],
      "metadata": {
        "id": "jvhE15wLRCQG"
      }
    },
    {
      "cell_type": "code",
      "source": [],
      "metadata": {
        "id": "0KU1JMMKRJHc"
      },
      "execution_count": null,
      "outputs": []
    }
  ]
}